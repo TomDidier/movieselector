{
 "cells": [
  {
   "cell_type": "code",
   "execution_count": 7,
   "metadata": {},
   "outputs": [],
   "source": [
    "from sklearn.ensemble import RandomForestClassifier\n",
    "from sklearn.model_selection import train_test_split\n",
    "from sklearn.metrics import confusion_matrix\n",
    "from sklearn import preprocessing \n",
    "import numpy as np\n",
    "import pandas as pd\n",
    "import ast\n",
    "import seaborn as sn #to plot beautiful confusion matrix\n",
    "import matplotlib.pyplot as plt"
   ]
  },
  {
   "cell_type": "code",
   "execution_count": 8,
   "metadata": {},
   "outputs": [
    {
     "name": "stderr",
     "output_type": "stream",
     "text": [
      "/Library/Frameworks/Python.framework/Versions/3.7/lib/python3.7/site-packages/IPython/core/interactiveshell.py:3020: DtypeWarning: Columns (10) have mixed types. Specify dtype option on import or set low_memory=False.\n",
      "  interactivity=interactivity, compiler=compiler, result=result)\n"
     ]
    }
   ],
   "source": [
    "#Working on the bigger dtb (+50k movies)\n",
    "allmovies = pd.read_csv(\"/Users/carolinechen/Documents/Python Programing/Groupwork/movies_metadata.csv\", delimiter= \",\")\n",
    "\n",
    "#Keeping relevant columns from df\n",
    "#No production company because it takes too long to process as one hot encoder\n",
    "df3 = allmovies[['title','adult', 'budget', 'genres', \n",
    "'id', 'original_language','release_date', 'revenue', 'runtime', 'vote_average']]"
   ]
  },
  {
   "cell_type": "markdown",
   "metadata": {},
   "source": [
    "# Cleaning"
   ]
  },
  {
   "cell_type": "code",
   "execution_count": 9,
   "metadata": {},
   "outputs": [
    {
     "name": "stdout",
     "output_type": "stream",
     "text": [
      "{'Crime', 'Foreign', 'Action', 'Mystery', 'Thriller', 'Science Fiction', 'Documentary', 'Horror', 'Western', 'War', 'Family', 'Comedy', 'Romance', 'Adventure', 'Drama', 'TV Movie', 'Music', 'Fantasy', 'History', 'Animation'}\n"
     ]
    }
   ],
   "source": [
    "#Drop rows where NAs\n",
    "df3 = df3.dropna()\n",
    "\n",
    "#Cleaning\n",
    "#Transform the json format into a simple list\n",
    "df3['genres'] = [list(set([y['name'] for y in x])) for x in df3['genres'].apply(ast.literal_eval)]\n",
    "#df3['production_companies'] = [list(set([y['name'] for y in x])) for x in df3['production_companies'].apply(ast.literal_eval)]\n",
    "\n",
    "df3['title'] = df3['title'].astype('str')\n",
    "df3[\"vote_average\"].fillna(\"0\", inplace=True)\n",
    "df3['vote_average'] = df3['vote_average'].astype('float')\n",
    "df3['runtime'] = df3['runtime'].astype('float')\n",
    "\n",
    "#Date information (same code as first part)\n",
    "df3[\"release_date\"] = pd.to_datetime(df3[\"release_date\"])\n",
    "df3['year'] = df3['release_date'].dt.year\n",
    "df3['month'] = df3['release_date'].dt.month\n",
    "df3['weekday'] = df3['release_date'].dt.weekday #Return the day of the week as an integer, where Monday is 0 and Sunday is 6.\n",
    "\n",
    "df3['budget'] = pd.to_numeric(df3['budget'], errors='coerce')\n",
    "lb = preprocessing.LabelBinarizer()\n",
    "df3[[\"adult\"]] = lb.fit_transform(df3[[\"adult\"]]) #True = 1 and False = 0\n",
    "\n",
    "list_genre = set(x for l in df3[\"genres\"] for x in l)\n",
    "print(list_genre)"
   ]
  },
  {
   "cell_type": "code",
   "execution_count": 10,
   "metadata": {},
   "outputs": [],
   "source": [
    "#get_dummies from pd replace categorical values with their One Hot encoder equivalent (numerical values, 0 or 1)\n",
    "cols_to_transform = [ 'original_language', 'year', 'month','weekday']\n",
    "new_df3 = pd.get_dummies(df3, columns = cols_to_transform )\n",
    "#Cleaning the genre columns so it becomes a one hot encoder column\n",
    "new_df3 = pd.concat([new_df3, pd.get_dummies(new_df3.genres.apply(pd.Series).stack()).sum(level=0)], axis = 1)\n",
    "\n",
    "#dropping unecessary columns\n",
    "final_df3 = new_df3.drop(columns=[\"release_date\", \"id\", \"genres\", \"title\"])\n",
    "final_df3 = final_df3.dropna()"
   ]
  },
  {
   "cell_type": "markdown",
   "metadata": {},
   "source": [
    "# Model 1"
   ]
  },
  {
   "cell_type": "markdown",
   "metadata": {},
   "source": [
    "## Predicting revenue"
   ]
  },
  {
   "cell_type": "code",
   "execution_count": 11,
   "metadata": {},
   "outputs": [
    {
     "data": {
      "text/plain": [
       "0.8259549118093681"
      ]
     },
     "execution_count": 11,
     "metadata": {},
     "output_type": "execute_result"
    }
   ],
   "source": [
    "#Model 1: how much the movie will generate in revenue\n",
    "#Training and fitting the model\n",
    "#Using a scikit.model selection function to randomly select a train and test dataframe\n",
    "X, y = final_df3.drop('revenue', axis=1), final_df3['revenue']\n",
    "X_train, X_test, Y_train, Y_test = train_test_split(X, y, train_size=0.60, test_size=0.40)\n",
    "\n",
    "rf = RandomForestClassifier(n_estimators = 150, max_depth=5)\n",
    "rf.fit(X_train, Y_train)\n",
    "Y_pred = rf.predict(X_test) #very long to run\n",
    "rf.score(X_train, Y_train) #very long to calculate. Output is 0.82 "
   ]
  },
  {
   "cell_type": "markdown",
   "metadata": {},
   "source": [
    "# Model 2"
   ]
  },
  {
   "cell_type": "markdown",
   "metadata": {},
   "source": [
    "## Predicting if it is a success"
   ]
  },
  {
   "cell_type": "code",
   "execution_count": 16,
   "metadata": {},
   "outputs": [],
   "source": [
    "#Model 2: what will be its average score on TMDB\n",
    "#0 or 1 if the movie is considered a success (average_score > 5)\n",
    "final_df3.loc[final_df3.vote_average > 5, 'is_success'] = 1\n",
    "final_df3.loc[final_df3.is_success.isnull()] = 0\n",
    "final_df3['is_success'] = final_df3['is_success'].astype('int')\n",
    "final_df3 = final_df3.dropna()"
   ]
  },
  {
   "cell_type": "code",
   "execution_count": 17,
   "metadata": {},
   "outputs": [
    {
     "name": "stdout",
     "output_type": "stream",
     "text": [
      "[[ 4177     0]\n",
      " [    0 12946]]\n"
     ]
    }
   ],
   "source": [
    "X, y = final_df3.drop('is_success', axis=1), final_df3['is_success']\n",
    "X_train, X_test, Y_train, Y_test = train_test_split(X, y, train_size=0.60, test_size=0.40)\n",
    "\n",
    "rf = RandomForestClassifier(n_estimators = 150, max_depth=5)\n",
    "rf.fit(X_train, Y_train)\n",
    "Y_pred = rf.predict(X_test) #very long to run\n",
    "rf.score(X_train, Y_train) #problem with prediction\n",
    "\n",
    "#Confusion matrix to see false positive, false negative and right results\n",
    "cf =confusion_matrix(Y_test,Y_pred)\n",
    "print(cf)"
   ]
  },
  {
   "cell_type": "code",
   "execution_count": null,
   "metadata": {},
   "outputs": [],
   "source": []
  }
 ],
 "metadata": {
  "kernelspec": {
   "display_name": "Python 3",
   "language": "python",
   "name": "python3"
  },
  "language_info": {
   "codemirror_mode": {
    "name": "ipython",
    "version": 3
   },
   "file_extension": ".py",
   "mimetype": "text/x-python",
   "name": "python",
   "nbconvert_exporter": "python",
   "pygments_lexer": "ipython3",
   "version": "3.7.0"
  }
 },
 "nbformat": 4,
 "nbformat_minor": 2
}
