{
 "cells": [
  {
   "cell_type": "code",
   "execution_count": 103,
   "metadata": {},
   "outputs": [],
   "source": [
    "import pandas as pd\n",
    "import ast\n",
    "import re\n",
    "from tabulate import tabulate\n",
    "from IPython.display import Image, HTML\n",
    "\n",
    "import os\n",
    "os.getcwd()\n",
    "\n",
    "movies = pd.read_csv(\"/Users/carolinechen/Documents/Python Programing/Groupwork/tmdb_5000_movies.csv\", delimiter= \",\")\n",
    "allmovies = pd.read_csv(\"/Users/carolinechen/Documents/Python Programing/Groupwork/movies_metadata.csv\", delimiter= \",\")\n"
   ]
  },
  {
   "cell_type": "code",
   "execution_count": 113,
   "metadata": {},
   "outputs": [],
   "source": [
    "%matplotlib inline\n",
    "from IPython.display import Image, HTML\n",
    "import json\n",
    "import datetime\n",
    "import ast\n",
    "import pandas as pd\n",
    "import matplotlib.pyplot as plt\n",
    "import numpy as np\n",
    "from scipy import stats\n",
    "\n",
    "import warnings\n",
    "warnings.filterwarnings('ignore')\n",
    "\n",
    "pd.set_option('display.max_colwidth', 50)"
   ]
  },
  {
   "cell_type": "code",
   "execution_count": 114,
   "metadata": {},
   "outputs": [],
   "source": [
    "import json\n",
    "import datetime\n",
    "import matplotlib.pyplot as plt\n",
    "import numpy as np"
   ]
  },
  {
   "cell_type": "code",
   "execution_count": 115,
   "metadata": {},
   "outputs": [],
   "source": [
    "#####################\n",
    "#                   #\n",
    "# CLEANING          #\n",
    "#                   #\n",
    "#####################\n",
    "\n",
    "#converting the columns that are into json format into a simple list thanks to library ast\n",
    "movies['genres'] = [list(set([y['name'] for y in x])) for x in movies['genres'].apply(ast.literal_eval)]\n",
    "movies['id'] = movies['id'].astype('float')\n",
    "allmovies = allmovies[~allmovies.id.str.contains(\"-\")] #drop rows where wrogn id format (like date!)\n",
    "allmovies['id'] = allmovies['id'].astype('float')\n",
    "movies = pd.merge(movies, allmovies[['id','poster_path']],on='id', how='left')\n",
    "\n",
    "#Get list of all the genres possible for a movi\n",
    "genre_possible = set(x for l in movies[\"genres\"] for x in l)\n",
    "#print(genre_possible)\n"
   ]
  },
  {
   "cell_type": "code",
   "execution_count": 116,
   "metadata": {},
   "outputs": [],
   "source": [
    "#Create a column \"decade\" on your dataframe\n",
    "movies[\"release_date\"] = pd.to_datetime(movies[\"release_date\"])\n",
    "movies['year'] = movies['release_date'].dt.year"
   ]
  },
  {
   "cell_type": "code",
   "execution_count": 117,
   "metadata": {},
   "outputs": [],
   "source": [
    "def release_decade(c):\n",
    "    if c[\"year\"] >1999 and c[\"year\"] < 2010:\n",
    "        return 2000\n",
    "    elif c[\"year\"] >= 2010:\n",
    "        return 2010\n",
    "    else:\n",
    "        return (c[\"year\"] - ((c[\"year\"]//100)*100))//10*10"
   ]
  },
  {
   "cell_type": "code",
   "execution_count": 118,
   "metadata": {},
   "outputs": [],
   "source": [
    "movies['decade'] = movies.apply(release_decade, axis=1)\n",
    "movies[\"decade\"].fillna(\"2010\", inplace=True)\n",
    "#movies.loc[movies['decade'].isnull()] #empty df so there is no longer a problem"
   ]
  },
  {
   "cell_type": "code",
   "execution_count": 119,
   "metadata": {},
   "outputs": [
    {
     "name": "stdout",
     "output_type": "stream",
     "text": [
      "\n",
      "What movie genre interests you (Press Q to stop)? action\n",
      "You're interested in \n",
      "Action\n",
      "\n",
      "What movie genre interests you (Press Q to stop)? q\n",
      "You're interested in \n",
      "Action\n",
      "\n",
      "Which decade interests you (Press 0 to stop)? 2000\n",
      "You're interested in movies from era(s):\n",
      "2000\n",
      "\n",
      "Which decade interests you (Press 0 to stop)? 0\n",
      "You're interested in movies from era(s):\n",
      "2000\n"
     ]
    }
   ],
   "source": [
    "#####################\n",
    "#                   #\n",
    "# MODEL             #\n",
    "#                   #\n",
    "#####################\n",
    "\n",
    "#Loop to get what genres the user is interested in\n",
    "genres_choisi=[]\n",
    "while True:    # infinite loop\n",
    "    try:\n",
    "        element = input(\"\\nWhat movie genre interests you (Press Q to stop)? \")\n",
    "        if element.upper() == \"Q\":\n",
    "            break  # stops the loop\n",
    "        elif element.lower().capitalize() in genres_choisi: #remove duplicates\n",
    "            print(\"This genre is already specified!\")\n",
    "            pass\n",
    "        elif element.lower().capitalize() not in genre_possible: #Check if a chosen genre does exist in our database, if not remove it from our list and ask the user to input a new one or no\n",
    "            print(element, \" is not a valid genre, please choose from\", *genre_possible)\n",
    "            ajouter = input(\"Do you want to input a new genre? (Y/N) \")\n",
    "            if ajouter.upper() == \"Y\":\n",
    "                genres_choisi.append(input(\"\\nWhat genre exactly?\").lower().capitalize())\n",
    "            else:\n",
    "                break\n",
    "        else:\n",
    "            genres_choisi.append(element.lower().capitalize())\n",
    "    finally:\n",
    "        print(\"You're interested in \", *genres_choisi, sep = \"\\n\")\n",
    "    if len(genres_choisi) > 5:\n",
    "        print(\"Too many genres! We'll keep\", *genres_choisi)\n",
    "        break\n",
    "\n",
    "#Loop to get what decades the user is interested in\n",
    "decade_choisi = []\n",
    "while True:    # infinite loop\n",
    "    try:\n",
    "        element = int(input(\"\\nWhich decade interests you (Press 0 to stop)? \"))\n",
    "        if element == 0:\n",
    "            break  # stops the loop\n",
    "        elif element in decade_choisi: #remove duplicates\n",
    "            print(\"This decade is already specified!\")\n",
    "            pass\n",
    "        else:\n",
    "            decade_choisi.append(element)\n",
    "    except ValueError:\n",
    "        print(\"Input a number (10,20,..., 2000, 2010) please!\")\n",
    "    finally:\n",
    "        print(\"You're interested in movies from era(s):\", *decade_choisi, sep = \"\\n\")\n",
    "    if len(decade_choisi) > 5:\n",
    "        print(\"You've already chosen 5 decades! We'll keep\", *decade_choisi)\n",
    "        break"
   ]
  },
  {
   "cell_type": "code",
   "execution_count": 128,
   "metadata": {},
   "outputs": [
    {
     "name": "stdout",
     "output_type": "stream",
     "text": [
      "Out of 2051 movies meeting your criteria, here's the top 10...\n",
      "╒═══════════════════════════════════════════════════╤════════╤═════════════════╕\n",
      "│ Movie                                             │   Year │   Average score │\n",
      "╞═══════════════════════════════════════════════════╪════════╪═════════════════╡\n",
      "│ The Dark Knight                                   │   2008 │             8.2 │\n",
      "├───────────────────────────────────────────────────┼────────┼─────────────────┤\n",
      "│ The Lord of the Rings: The Return of the King     │   2003 │             8.1 │\n",
      "├───────────────────────────────────────────────────┼────────┼─────────────────┤\n",
      "│ Star Wars: Clone Wars: Volume 1                   │   2005 │             8   │\n",
      "├───────────────────────────────────────────────────┼────────┼─────────────────┤\n",
      "│ The Lord of the Rings: The Fellowship of the Ring │   2001 │             8   │\n",
      "├───────────────────────────────────────────────────┼────────┼─────────────────┤\n",
      "│ Oldboy                                            │   2003 │             8   │\n",
      "├───────────────────────────────────────────────────┼────────┼─────────────────┤\n",
      "│ The Lord of the Rings: The Two Towers             │   2002 │             8   │\n",
      "├───────────────────────────────────────────────────┼────────┼─────────────────┤\n",
      "│ Gladiator                                         │   2000 │             7.9 │\n",
      "├───────────────────────────────────────────────────┼────────┼─────────────────┤\n",
      "│ Inglourious Basterds                              │   2009 │             7.9 │\n",
      "├───────────────────────────────────────────────────┼────────┼─────────────────┤\n",
      "│ Elite Squad                                       │   2007 │             7.8 │\n",
      "├───────────────────────────────────────────────────┼────────┼─────────────────┤\n",
      "│ V for Vendetta                                    │   2006 │             7.7 │\n",
      "╘═══════════════════════════════════════════════════╧════════╧═════════════════╛\n"
     ]
    }
   ],
   "source": [
    "decade_choisi = [float(x) for x in decade_choisi]\n",
    "\n",
    "df1 = movies[movies['decade'].isin(decade_choisi)]\n",
    "\n",
    "#Générer une dataframe correspondant aux genres voulues \n",
    "df2 = df1[[all(x in y for x in genres_choisi) for y in df1[\"genres\"].values]]\n",
    "\n",
    "#Sort movies based on score calculated above and print a beautiful table of the TOP10\n",
    "df2 = df2.sort_values('vote_average', ascending=False)\n",
    "\n",
    "print(\"Out of\", str(len(df1.index)), \"movies meeting your criteria, here's the top 10...\" )\n",
    "print(tabulate(df2[['title', \"year\", 'vote_average']].head(10), headers=[\"Movie\", \"Year\",\"Average score\"], showindex=\"never\", tablefmt=\"fancy_grid\"))"
   ]
  },
  {
   "cell_type": "code",
   "execution_count": 129,
   "metadata": {},
   "outputs": [],
   "source": [
    "#get the poster image\n",
    "movies['poster_path2'] = \"<img src='http://image.tmdb.org/t/p/w185\"+movies[\"poster_path\"]+\"' style='height:100px;'>\"\n",
    "#Dataframe with only movies in selected decade"
   ]
  },
  {
   "cell_type": "code",
   "execution_count": 132,
   "metadata": {},
   "outputs": [
    {
     "data": {
      "text/html": [
       "<table border=\"1\" class=\"dataframe\">\n",
       "  <thead>\n",
       "    <tr style=\"text-align: right;\">\n",
       "      <th>poster_path2</th>\n",
       "      <th>title</th>\n",
       "      <th>vote_average</th>\n",
       "      <th>genres</th>\n",
       "    </tr>\n",
       "  </thead>\n",
       "  <tbody>\n",
       "    <tr>\n",
       "      <td><img src='http://image.tmdb.org/t/p/w185/1hRoyzDtpgMU7Dz4JF22RANzQO7.jpg' style='height:100px;'></td>\n",
       "      <td>The Dark Knight</td>\n",
       "      <td>8.2</td>\n",
       "      <td>[Thriller, Crime, Drama, Action]</td>\n",
       "    </tr>\n",
       "    <tr>\n",
       "      <td><img src='http://image.tmdb.org/t/p/w185/uexxR7Kw1qYbZk0RYaF9Rx5ykbj.jpg' style='height:100px;'></td>\n",
       "      <td>The Lord of the Rings: The Return of the King</td>\n",
       "      <td>8.1</td>\n",
       "      <td>[Fantasy, Action, Adventure]</td>\n",
       "    </tr>\n",
       "    <tr>\n",
       "      <td>NaN</td>\n",
       "      <td>Star Wars: Clone Wars: Volume 1</td>\n",
       "      <td>8.0</td>\n",
       "      <td>[Adventure, Animation, Action, Fantasy, Science Fiction]</td>\n",
       "    </tr>\n",
       "    <tr>\n",
       "      <td><img src='http://image.tmdb.org/t/p/w185/bxVxZb5O9OxCO0oRUNdCnpy9NST.jpg' style='height:100px;'></td>\n",
       "      <td>The Lord of the Rings: The Fellowship of the Ring</td>\n",
       "      <td>8.0</td>\n",
       "      <td>[Fantasy, Action, Adventure]</td>\n",
       "    </tr>\n",
       "    <tr>\n",
       "      <td><img src='http://image.tmdb.org/t/p/w185/rIZX6X0MIHYEebk6W4LABT9VP2c.jpg' style='height:100px;'></td>\n",
       "      <td>Oldboy</td>\n",
       "      <td>8.0</td>\n",
       "      <td>[Thriller, Drama, Action, Mystery]</td>\n",
       "    </tr>\n",
       "    <tr>\n",
       "      <td><img src='http://image.tmdb.org/t/p/w185/wf3v0Pn09jnT5HSaYal7Ami3bdA.jpg' style='height:100px;'></td>\n",
       "      <td>The Lord of the Rings: The Two Towers</td>\n",
       "      <td>8.0</td>\n",
       "      <td>[Fantasy, Action, Adventure]</td>\n",
       "    </tr>\n",
       "    <tr>\n",
       "      <td><img src='http://image.tmdb.org/t/p/w185/6WBIzCgmDCYrqh64yDREGeDk9d3.jpg' style='height:100px;'></td>\n",
       "      <td>Gladiator</td>\n",
       "      <td>7.9</td>\n",
       "      <td>[Adventure, Drama, Action]</td>\n",
       "    </tr>\n",
       "    <tr>\n",
       "      <td><img src='http://image.tmdb.org/t/p/w185/ai0LXkzVM3hMjDhvFdKMUemoBe.jpg' style='height:100px;'></td>\n",
       "      <td>Inglourious Basterds</td>\n",
       "      <td>7.9</td>\n",
       "      <td>[Thriller, War, Drama, Action]</td>\n",
       "    </tr>\n",
       "    <tr>\n",
       "      <td><img src='http://image.tmdb.org/t/p/w185/soOOLcNFRHCKf1WD6T8psUY5Xgi.jpg' style='height:100px;'></td>\n",
       "      <td>Elite Squad</td>\n",
       "      <td>7.8</td>\n",
       "      <td>[Crime, Drama, Action]</td>\n",
       "    </tr>\n",
       "    <tr>\n",
       "      <td><img src='http://image.tmdb.org/t/p/w185/AoGpqw4S4ZGgwhlM3FgzFVwyIGl.jpg' style='height:100px;'></td>\n",
       "      <td>V for Vendetta</td>\n",
       "      <td>7.7</td>\n",
       "      <td>[Thriller, Fantasy, Action]</td>\n",
       "    </tr>\n",
       "  </tbody>\n",
       "</table>"
      ],
      "text/plain": [
       "<IPython.core.display.HTML object>"
      ]
     },
     "metadata": {},
     "output_type": "display_data"
    }
   ],
   "source": [
    "#Parfois les images ne s'affichent pas, réessayez. \n",
    "#It cuts some movies for unknown reasons\n",
    "htmltable2 = df2[[\"poster_path2\",\"title\", \"vote_average\", \"genres\"]].head(10)\n",
    "display(HTML(htmltable2.to_html(escape = False, index = False)))\n",
    "\n"
   ]
  },
  {
   "cell_type": "code",
   "execution_count": null,
   "metadata": {},
   "outputs": [],
   "source": []
  }
 ],
 "metadata": {
  "kernelspec": {
   "display_name": "Python 3",
   "language": "python",
   "name": "python3"
  },
  "language_info": {
   "codemirror_mode": {
    "name": "ipython",
    "version": 3
   },
   "file_extension": ".py",
   "mimetype": "text/x-python",
   "name": "python",
   "nbconvert_exporter": "python",
   "pygments_lexer": "ipython3",
   "version": "3.7.0"
  }
 },
 "nbformat": 4,
 "nbformat_minor": 2
}
